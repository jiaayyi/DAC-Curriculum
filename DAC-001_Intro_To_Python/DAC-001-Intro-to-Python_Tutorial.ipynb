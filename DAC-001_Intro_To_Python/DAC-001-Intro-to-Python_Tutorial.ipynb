{
 "cells": [
  {
   "cell_type": "code",
   "execution_count": 4,
   "metadata": {},
   "outputs": [
    {
     "name": "stdout",
     "output_type": "stream",
     "text": [
      "['orange', 'banana', 'tomato']\n"
     ]
    }
   ],
   "source": [
    "#Question 1: Lists\n",
    "fruits = [\"apple\", \"orange\", \"banana\"]\n",
    "fruits.append(\"tomato\")\n",
    "fruits.remove(\"apple\")\n",
    "print(fruits)"
   ]
  },
  {
   "cell_type": "code",
   "execution_count": 7,
   "metadata": {},
   "outputs": [
    {
     "name": "stdout",
     "output_type": "stream",
     "text": [
      "('physics', 'chemistry', 'english', 'math', 'biology', 'literature')\n",
      "the number of elements in the tuple is 6\n"
     ]
    }
   ],
   "source": [
    "#Question 2: Tuples\n",
    "subjects = (\"physics\", \"chemistry\", \"english\", \"math\", \"biology\")\n",
    "#subjects.append(\"literature\") does not work!\n",
    "# to append, convert tuple to list.\n",
    "listSubjects = list(subjects)\n",
    "listSubjects.append(\"literature\")\n",
    "subjects = tuple(listSubjects)\n",
    "print(subjects)\n",
    "print(\"the number of elements in the tuple is\", len(subjects))\n"
   ]
  },
  {
   "cell_type": "code",
   "execution_count": 16,
   "metadata": {},
   "outputs": [
    {
     "name": "stdout",
     "output_type": "stream",
     "text": [
      "[10, 9, 8, 7, 6, 3]\n",
      "[]\n"
     ]
    }
   ],
   "source": [
    "#Question 3: Sorting Lists\n",
    "students_id = [10, 6, 7, 8, 9, 3]\n",
    "sorted_students_id = sorted(students_id)\n",
    "sorted_students_id.reverse()\n",
    "print(sorted_students_id)\n",
    "sorted_students_id.clear()\n",
    "print(sorted_students_id)"
   ]
  },
  {
   "cell_type": "code",
   "execution_count": 20,
   "metadata": {},
   "outputs": [
    {
     "name": "stdout",
     "output_type": "stream",
     "text": [
      "[15]\n",
      "[15, 12]\n",
      "[15, 12, 9]\n",
      "[15, 12, 9, 6]\n",
      "[15, 12, 9, 6, 3]\n"
     ]
    }
   ],
   "source": [
    "#Question 4: Generating Lists\n",
    "n = 15\n",
    "desc_list = []\n",
    "while n > 0:\n",
    "    desc_list.append(n)\n",
    "    n = n - 3\n",
    "    print(desc_list)"
   ]
  },
  {
   "cell_type": "code",
   "execution_count": 21,
   "metadata": {},
   "outputs": [
    {
     "name": "stdout",
     "output_type": "stream",
     "text": [
      "[2]\n",
      "[2, 4]\n",
      "[2, 4, 6]\n",
      "[2, 4, 6, 8]\n",
      "[2, 4, 6, 8, 10]\n",
      "[2, 4, 6, 8, 10, 12]\n",
      "[2, 4, 6, 8, 10, 12, 14]\n",
      "[2, 4, 6, 8, 10, 12, 14, 16]\n",
      "[2, 4, 6, 8, 10, 12, 14, 16, 18]\n",
      "[2, 4, 6, 8, 10, 12, 14, 16, 18, 20]\n",
      "[2, 4, 6, 8, 10, 12, 14, 16, 18, 20, 22]\n",
      "[2, 4, 6, 8, 10, 12, 14, 16, 18, 20, 22, 24]\n",
      "[2, 4, 6, 8, 10, 12, 14, 16, 18, 20, 22, 24, 26]\n",
      "[2, 4, 6, 8, 10, 12, 14, 16, 18, 20, 22, 24, 26, 28]\n"
     ]
    }
   ],
   "source": [
    "#Question 5: Generating Lists\n",
    "asc_list = []\n",
    "i = len(asc_list)\n",
    "n = 2\n",
    "for i in range(14):\n",
    "    asc_list.append(n)\n",
    "    n = n + 2\n",
    "    print(asc_list)\n",
    "\n"
   ]
  },
  {
   "cell_type": "code",
   "execution_count": 26,
   "metadata": {},
   "outputs": [
    {
     "name": "stdout",
     "output_type": "stream",
     "text": [
      "[2, 4, 6, 8, 10, 12, 14, 16, 18, 20, 22, 24, 26, 28, 15, 12, 9, 6, 3]\n",
      "[3, 9, 15]\n",
      "[2, 4, 6, 6, 8, 10, 12, 12, 14, 16, 18, 20, 22, 24, 26, 28]\n"
     ]
    }
   ],
   "source": [
    "#Question 6: Combining and Separating Lists\n",
    "combined_list = asc_list + desc_list\n",
    "odd_numbers = []\n",
    "even_numbers = []\n",
    "print(combined_list)\n",
    "for i in range(len(combined_list)):\n",
    "    if (combined_list[i] % 2) > 0:\n",
    "        odd_numbers.append(combined_list[i])\n",
    "    else:\n",
    "        even_numbers.append(combined_list[i])\n",
    "\n",
    "odd_numbers = sorted(odd_numbers)\n",
    "even_numbers = sorted(even_numbers)\n",
    "print(odd_numbers)\n",
    "print(even_numbers)\n",
    "        \n"
   ]
  },
  {
   "cell_type": "code",
   "execution_count": 28,
   "metadata": {},
   "outputs": [],
   "source": [
    "#Question 7: Functions\n",
    "import math\n",
    "radius = int(input(\"please enter radius of circle: \"))\n",
    "area = math.pi * radius ** 2\n",
    "circ = 2 * math.pi * radius\n",
    "print(\"The area of the circle is\", area)\n",
    "print(\"The circumference of the circle is\", circ)\n"
   ]
  },
  {
   "cell_type": "code",
   "execution_count": 9,
   "metadata": {},
   "outputs": [
    {
     "data": {
      "text/plain": [
       "'Question 8: Custom Function\\nTask:\\nDefine a function that performs a task you find interesting. Demonstrate how this function works.'"
      ]
     },
     "execution_count": 9,
     "metadata": {},
     "output_type": "execute_result"
    }
   ],
   "source": [
    "\"\"\"Question 8: Custom Function\n",
    "Task:\n",
    "Define a function that performs a task you find interesting. Demonstrate how this function works.\"\"\"\n"
   ]
  },
  {
   "cell_type": "code",
   "execution_count": 1,
   "metadata": {},
   "outputs": [
    {
     "name": "stdout",
     "output_type": "stream",
     "text": [
      "{'Alice': '88', 'Bob': 90, 'Charlie': 78, 'David': '92'}\n"
     ]
    }
   ],
   "source": [
    "#Question 9: Creating and Manipulating Dictionaries\n",
    "student_grades = {\n",
    "    \"Alice\": 85,\n",
    "    \"Bob\": 90,\n",
    "    \"Charlie\": 78\n",
    "}\n",
    "student_grades[\"David\"] = \"92\"\n",
    "student_grades.update({\"Alice\": \"88\"})\n",
    "\n",
    "print(student_grades)"
   ]
  },
  {
   "cell_type": "code",
   "execution_count": 8,
   "metadata": {},
   "outputs": [
    {
     "name": "stdout",
     "output_type": "stream",
     "text": [
      "{'apple': 3, 'banana': 2, 'orange': 1}\n"
     ]
    }
   ],
   "source": [
    "#Question 10: Using Dictionaries to Count Occurrences\n",
    "fruits = [\"apple\", \"banana\", \"apple\", \"orange\", \"banana\", \"apple\"]\n",
    "fruit_count = {\n",
    "    \"apple\":0,\n",
    "    \"banana\":0,\n",
    "    \"orange\":0\n",
    "}\n",
    "for i in range(len(fruits)):\n",
    "    if fruits[i] == \"banana\":\n",
    "        fruit_count[\"banana\"] += 1\n",
    "    elif fruits[i] == \"apple\":\n",
    "        fruit_count[\"apple\"] += 1\n",
    "    elif fruits[i] == \"orange\":\n",
    "        fruit_count[\"orange\"] += 1\n",
    "    else:\n",
    "        print(\"invalid fruit\")\n",
    "\n",
    "\n",
    "print(fruit_count)"
   ]
  }
 ],
 "metadata": {
  "kernelspec": {
   "display_name": "Python 3",
   "language": "python",
   "name": "python3"
  },
  "language_info": {
   "codemirror_mode": {
    "name": "ipython",
    "version": 3
   },
   "file_extension": ".py",
   "mimetype": "text/x-python",
   "name": "python",
   "nbconvert_exporter": "python",
   "pygments_lexer": "ipython3",
   "version": "3.9.6"
  }
 },
 "nbformat": 4,
 "nbformat_minor": 2
}
